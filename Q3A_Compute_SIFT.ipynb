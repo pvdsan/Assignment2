{
 "cells": [
  {
   "cell_type": "code",
   "execution_count": 10,
   "metadata": {},
   "outputs": [
    {
     "name": "stdout",
     "output_type": "stream",
     "text": [
      "Patch saved to image1_patch.jpg\n",
      "Patch saved to image2_patch.jpg\n"
     ]
    }
   ],
   "source": [
    "import cv2\n",
    "import numpy as np\n",
    "\n",
    "# Initialize global variables\n",
    "ix, iy = -1, -1\n",
    "drawing = False\n",
    "max_size = 50  # Maximum size of the bounding box\n",
    "\n",
    "# Mouse callback function to draw rectangle\n",
    "def draw_rectangle(event, x, y, flags, param):\n",
    "    global ix, iy, drawing, img, img_name\n",
    "\n",
    "    if event == cv2.EVENT_LBUTTONDOWN:\n",
    "        drawing = True\n",
    "        ix, iy = x, y\n",
    "\n",
    "    elif event == cv2.EVENT_MOUSEMOVE:\n",
    "        if drawing:\n",
    "            img_copy = img.copy()\n",
    "            # Adjust the rectangle size to not exceed the maximum size\n",
    "            rect_width = min(max_size, abs(x - ix))\n",
    "            rect_height = min(max_size, abs(y - iy))\n",
    "            if x < ix:\n",
    "                rect_x = ix - rect_width\n",
    "            else:\n",
    "                rect_x = ix\n",
    "            if y < iy:\n",
    "                rect_y = iy - rect_height\n",
    "            else:\n",
    "                rect_y = iy\n",
    "            \n",
    "            cv2.rectangle(img_copy, (ix, iy), (rect_x + rect_width, rect_y + rect_height), (0, 255, 0), 2)\n",
    "            cv2.imshow(img_name, img_copy)\n",
    "\n",
    "    elif event == cv2.EVENT_LBUTTONUP:\n",
    "        drawing = False\n",
    "        rect_width = min(max_size, abs(x - ix))\n",
    "        rect_height = min(max_size, abs(y - iy))\n",
    "        if x < ix:\n",
    "            rect_x = ix - rect_width\n",
    "        else:\n",
    "            rect_x = ix\n",
    "        if y < iy:\n",
    "            rect_y = iy - rect_height\n",
    "        else:\n",
    "            rect_y = iy\n",
    "\n",
    "        # Extracting the ROI and removing the rectangle border\n",
    "        roi = img[iy:rect_y + rect_height, ix:rect_x + rect_width]\n",
    "        cv2.imshow(img_name, roi)\n",
    "        cv2.waitKey(1)  # Display ROI for a brief moment\n",
    "        save_path = f'{img_name}_patch.jpg'\n",
    "        cv2.imwrite(save_path, roi)\n",
    "        print(f'Patch saved to {save_path}')\n",
    "        cv2.destroyAllWindows()  # Close window after saving\n",
    "\n",
    "# Function to process each image\n",
    "def process_image(image_path):\n",
    "    global img, img_name\n",
    "    img = cv2.imread(image_path)\n",
    "    img_name = image_path.split('/')[-1].split('.')[0]  # Extract base name for window and saving\n",
    "    cv2.namedWindow(img_name)\n",
    "    cv2.setMouseCallback(img_name, draw_rectangle)\n",
    "\n",
    "    while True:\n",
    "        cv2.imshow(img_name, img)\n",
    "        if cv2.waitKey(20) & 0xFF == 27:  # Break loop on 'ESC'\n",
    "            break\n",
    "\n",
    "    cv2.destroyAllWindows()\n",
    "\n",
    "# Process each image\n",
    "process_image('image1.jpg')\n",
    "process_image('image2.jpg')\n"
   ]
  },
  {
   "cell_type": "code",
   "execution_count": 11,
   "metadata": {},
   "outputs": [
    {
     "name": "stdout",
     "output_type": "stream",
     "text": [
      "Sum of Squared Differences (SSD) between SIFT descriptors: 109760.0\n"
     ]
    }
   ],
   "source": [
    "\n",
    "def compute_sift_features(image):\n",
    "    # Initialize SIFT detector\n",
    "    sift = cv2.SIFT_create()\n",
    "    # Find keypoints and descriptors with SIFT\n",
    "    keypoints, descriptors = sift.detectAndCompute(image, None)\n",
    "    return keypoints, descriptors\n",
    "\n",
    "def calculate_ssd(descriptor1, descriptor2):\n",
    "    # Ensure that there is at least one descriptor in each patch\n",
    "    if descriptor1 is not None and descriptor2 is not None:\n",
    "        # Compute the sum of squared differences (SSD) between two sets of descriptors\n",
    "        ssd = np.sum((descriptor1 - descriptor2) ** 2)\n",
    "        return ssd\n",
    "    else:\n",
    "        return None\n",
    "\n",
    "# Load patches\n",
    "patch1 = cv2.imread('image1_patch.jpg', cv2.IMREAD_GRAYSCALE)\n",
    "patch2 = cv2.imread('image2_patch.jpg', cv2.IMREAD_GRAYSCALE)\n",
    "\n",
    "# Compute SIFT features\n",
    "_, descriptors1 = compute_sift_features(patch1)\n",
    "_, descriptors2 = compute_sift_features(patch2)\n",
    "\n",
    "# Calculate SSD between descriptors\n",
    "if descriptors1 is not None and descriptors2 is not None:\n",
    "    # Typically, you match descriptors, but here we'll compute SSD for the first descriptor for simplicity\n",
    "    ssd_value = calculate_ssd(descriptors1[0], descriptors2[0])\n",
    "    print(\"Sum of Squared Differences (SSD) between SIFT descriptors:\", ssd_value)\n",
    "else:\n",
    "    print(\"Descriptors could not be computed for one or both patches.\")\n"
   ]
  },
  {
   "cell_type": "code",
   "execution_count": null,
   "metadata": {},
   "outputs": [],
   "source": []
  }
 ],
 "metadata": {
  "kernelspec": {
   "display_name": "base",
   "language": "python",
   "name": "python3"
  },
  "language_info": {
   "codemirror_mode": {
    "name": "ipython",
    "version": 3
   },
   "file_extension": ".py",
   "mimetype": "text/x-python",
   "name": "python",
   "nbconvert_exporter": "python",
   "pygments_lexer": "ipython3",
   "version": "3.11.5"
  }
 },
 "nbformat": 4,
 "nbformat_minor": 2
}
